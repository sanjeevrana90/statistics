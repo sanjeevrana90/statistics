{
 "cells": [
  {
   "cell_type": "code",
   "execution_count": null,
   "id": "f8974194",
   "metadata": {},
   "outputs": [],
   "source": [
    "# Statistics Practical Implementation \n",
    "\n",
    "# Measure of Central Tendency\n",
    "1. Mean\n",
    "2. Median \n",
    "3. Mode"
   ]
  },
  {
   "cell_type": "code",
   "execution_count": 22,
   "id": "a520e36e",
   "metadata": {},
   "outputs": [],
   "source": [
    "ages = [23, 24, 32, 45, 12, 43, 67, 45, 32, 56, 32, 120]"
   ]
  },
  {
   "cell_type": "code",
   "execution_count": 23,
   "id": "34654fc7",
   "metadata": {},
   "outputs": [
    {
     "name": "stdout",
     "output_type": "stream",
     "text": [
      "44.25\n",
      "37.5\n"
     ]
    }
   ],
   "source": [
    "import numpy as np\n",
    "\n",
    "print (np.mean(ages))\n",
    "print (np.median(ages))"
   ]
  },
  {
   "cell_type": "code",
   "execution_count": 24,
   "id": "05318d5e",
   "metadata": {},
   "outputs": [
    {
     "name": "stdout",
     "output_type": "stream",
     "text": [
      "44.25\n",
      "37.5\n"
     ]
    }
   ],
   "source": [
    "import statistics as sas\n",
    "print(sas.mean(ages))\n",
    "print(sas.median(ages))"
   ]
  },
  {
   "cell_type": "code",
   "execution_count": 25,
   "id": "b8237917",
   "metadata": {},
   "outputs": [
    {
     "data": {
      "text/plain": [
       "32"
      ]
     },
     "execution_count": 25,
     "metadata": {},
     "output_type": "execute_result"
    }
   ],
   "source": [
    "sas.mode(ages)"
   ]
  },
  {
   "cell_type": "code",
   "execution_count": 26,
   "id": "5be8a06a",
   "metadata": {},
   "outputs": [
    {
     "data": {
      "text/plain": [
       "<Axes: >"
      ]
     },
     "execution_count": 26,
     "metadata": {},
     "output_type": "execute_result"
    },
    {
     "data": {
      "image/png": "[encoded data removed]",
      "text/plain": [
       "<Figure size 640x480 with 1 Axes>"
      ]
     },
     "metadata": {},
     "output_type": "display_data"
    }
   ],
   "source": [
    "import seaborn as sns\n",
    "sns.boxplot(ages)"
   ]
  },
  {
   "cell_type": "code",
   "execution_count": null,
   "id": "7a019edc",
   "metadata": {},
   "outputs": [],
   "source": [
    "# 5 Number Summery"
   ]
  },
  {
   "cell_type": "code",
   "execution_count": 27,
   "id": "153c6b0a",
   "metadata": {},
   "outputs": [],
   "source": [
    "q1, q3 = np.percentile(ages, [25, 75])"
   ]
  },
  {
   "cell_type": "code",
   "execution_count": 28,
   "id": "1ad15685",
   "metadata": {},
   "outputs": [
    {
     "name": "stdout",
     "output_type": "stream",
     "text": [
      "30.0 47.75\n"
     ]
    }
   ],
   "source": [
    "print(q1, q3)"
   ]
  },
  {
   "cell_type": "code",
   "execution_count": 31,
   "id": "84eae33a",
   "metadata": {},
   "outputs": [
    {
     "name": "stdout",
     "output_type": "stream",
     "text": [
      "3.375 74.375\n"
     ]
    }
   ],
   "source": [
    "## To check outliers [Lower fence - Higher fence]\n",
    "\n",
    "IQR = q3 - q1\n",
    "lower_fence = q1 - 1.5* (IQR)\n",
    "higher_fence = q3 + 1.5* (IQR)\n",
    "\n",
    "print(lower_fence, higher_fence)"
   ]
  },
  {
   "cell_type": "code",
   "execution_count": null,
   "id": "9bf42d73",
   "metadata": {},
   "outputs": [],
   "source": [
    "# Measure of Dispersion \n",
    "1. Variance\n",
    "2. Standard Deviation\n"
   ]
  },
  {
   "cell_type": "code",
   "execution_count": 33,
   "id": "8f04cac6",
   "metadata": {},
   "outputs": [
    {
     "data": {
      "text/plain": [
       "795.2954545454545"
      ]
     },
     "execution_count": 33,
     "metadata": {},
     "output_type": "execute_result"
    }
   ],
   "source": [
    "sas.variance(ages)"
   ]
  },
  {
   "cell_type": "code",
   "execution_count": 34,
   "id": "968f5f02",
   "metadata": {},
   "outputs": [
    {
     "data": {
      "text/plain": [
       "729.0208333333334"
      ]
     },
     "execution_count": 34,
     "metadata": {},
     "output_type": "execute_result"
    }
   ],
   "source": [
    "np.var(ages)"
   ]
  },
  {
   "cell_type": "code",
   "execution_count": 38,
   "id": "02f2aa11",
   "metadata": {},
   "outputs": [],
   "source": [
    "#testing variance in case of population\n",
    "\n",
    "def variance(data):\n",
    "    n = len(ages)\n",
    "    ## mean of the data\n",
    "    mean = sum(data)/ n\n",
    "    ## variance\n",
    "    deviation = [(x - mean)** 2 for x in data]\n",
    "    variance = sum(deviation)/ n\n",
    "    return variance\n"
   ]
  },
  {
   "cell_type": "code",
   "execution_count": 39,
   "id": "d4398db8",
   "metadata": {},
   "outputs": [
    {
     "data": {
      "text/plain": [
       "729.0208333333334"
      ]
     },
     "execution_count": 39,
     "metadata": {},
     "output_type": "execute_result"
    }
   ],
   "source": [
    "variance(ages)"
   ]
  },
  {
   "cell_type": "code",
   "execution_count": 40,
   "id": "45b092c0",
   "metadata": {},
   "outputs": [
    {
     "data": {
      "text/plain": [
       "729.0208333333334"
      ]
     },
     "execution_count": 40,
     "metadata": {},
     "output_type": "execute_result"
    }
   ],
   "source": [
    "sas.pvariance(ages)"
   ]
  },
  {
   "cell_type": "code",
   "execution_count": 41,
   "id": "d1d487f2",
   "metadata": {},
   "outputs": [
    {
     "data": {
      "text/plain": [
       "795.2954545454545"
      ]
     },
     "execution_count": 41,
     "metadata": {},
     "output_type": "execute_result"
    }
   ],
   "source": [
    "sas.variance(ages)"
   ]
  },
  {
   "cell_type": "code",
   "execution_count": 42,
   "id": "013fd2f9",
   "metadata": {},
   "outputs": [
    {
     "data": {
      "text/plain": [
       "27.000385799712813"
      ]
     },
     "execution_count": 42,
     "metadata": {},
     "output_type": "execute_result"
    }
   ],
   "source": [
    "import math\n",
    "\n",
    "math.sqrt(sas.pvariance(ages))"
   ]
  },
  {
   "cell_type": "code",
   "execution_count": 43,
   "id": "9a2ddb10",
   "metadata": {},
   "outputs": [],
   "source": [
    "## Histograms and PDF"
   ]
  },
  {
   "cell_type": "code",
   "execution_count": 47,
   "id": "aa153deb",
   "metadata": {},
   "outputs": [
    {
     "data": {
      "text/plain": [
       "<Axes: ylabel='Count'>"
      ]
     },
     "execution_count": 47,
     "metadata": {},
     "output_type": "execute_result"
    },
    {
     "data": {
      "image/png": "[encoded data removed]",
      "text/plain": [
       "<Figure size 640x480 with 1 Axes>"
      ]
     },
     "metadata": {},
     "output_type": "display_data"
    }
   ],
   "source": [
    "import seaborn as sns\n",
    "\n",
    "sns.histplot(ages, kde = True)"
   ]
  },
  {
   "cell_type": "code",
   "execution_count": null,
   "id": "ba5c8498",
   "metadata": {},
   "outputs": [],
   "source": []
  },
  {
   "cell_type": "code",
   "execution_count": 51,
   "id": "5930fa25",
   "metadata": {},
   "outputs": [],
   "source": [
    "## create a normal distributed data\n",
    "\n",
    "s = np.random.normal(0.5, 0.2, 1000)"
   ]
  },
  {
   "cell_type": "code",
   "execution_count": 52,
   "id": "04fa4d3e",
   "metadata": {},
   "outputs": [
    {
     "data": {
      "text/plain": [
       "array([ 0.10673283,  0.79962839,  0.50233542,  0.6162354 ,  0.43500011,\n",
       "        0.68506463,  0.21707848,  0.12660349,  0.84395087,  0.3990628 ,\n",
       "        0.63871301,  0.41728096,  0.33111882,  0.73023677,  0.64110549,\n",
       "        0.64289047,  0.62558968,  0.48104515,  0.74634115,  0.30859583,\n",
       "        0.70310883,  0.67054773,  0.81552045,  0.80998173,  0.68540501,\n",
       "        0.35730496,  0.40966632,  0.0135745 ,  0.42690102,  0.7578041 ,\n",
       "        0.72789067,  0.60118085,  0.19041809,  0.6631378 ,  0.5871595 ,\n",
       "        0.4685567 ,  0.27225384,  0.35772986,  0.55932874,  0.42376836,\n",
       "        0.12185518,  0.50934509,  0.9142321 ,  0.48529686,  0.4122799 ,\n",
       "        0.60383561,  0.51616459,  0.3114413 ,  0.49723454,  0.56582626,\n",
       "        0.74258527,  0.47132136,  0.71836317,  0.61525787,  0.29562087,\n",
       "        0.85631106,  0.57755326,  0.22778726,  0.39325666,  0.49183161,\n",
       "        0.16880389,  0.38365322,  0.26366334,  0.43900937,  0.83627797,\n",
       "        0.39609296,  0.97705586,  0.76003867,  0.64483537,  0.56027193,\n",
       "        0.3987798 ,  0.8813105 ,  0.24441281,  0.31586322,  0.38687777,\n",
       "        0.1269995 ,  0.61764227,  0.87328433,  0.47276129,  0.39958545,\n",
       "        0.40269668,  0.4604898 ,  0.52899977,  0.51631129,  0.57474793,\n",
       "        1.21413589,  0.20211749,  0.20563668,  0.23807681,  0.31364798,\n",
       "        0.34905656,  0.51193851,  0.43546432,  0.12663756,  0.08190989,\n",
       "        0.29932207,  0.64240297,  0.28083574,  0.78492609,  0.64958646,\n",
       "        0.57504209,  0.49102525,  0.55332632,  0.32364421,  0.68447815,\n",
       "        0.69246543,  0.51531788,  0.5828733 ,  0.36719487,  0.78758335,\n",
       "        0.65877225,  0.41179849,  0.33092486,  0.44153622,  0.49659559,\n",
       "        0.38844144,  0.55436778,  0.56531814,  0.76613852,  0.74435875,\n",
       "        0.85009352,  0.48424146,  0.35525156,  0.49475817,  0.47356779,\n",
       "        0.33721938,  0.77306293,  0.27457826,  0.90494586,  0.26743498,\n",
       "        0.2883571 ,  0.52521074,  0.5397428 ,  0.56468946,  0.28267763,\n",
       "        0.49461116,  0.85105568,  0.54894263,  0.6936186 ,  0.65841859,\n",
       "        0.29863419,  0.84699722,  0.80829241,  0.04976975,  0.53200348,\n",
       "        0.19686939,  0.33209896,  0.24192412, -0.01266662,  0.82381364,\n",
       "        0.55154463,  0.46365485,  0.67985949,  0.49503744,  0.31693071,\n",
       "        0.40355251,  0.51308272,  0.33443003,  0.57514647,  0.56168798,\n",
       "        0.88698765,  0.3543136 ,  0.93676235,  0.7187749 ,  0.72096005,\n",
       "        0.76926763,  0.38792605,  0.569208  ,  0.41329846,  0.67668866,\n",
       "        0.45811936,  0.69629972,  0.6740879 ,  0.21742074,  0.61819202,\n",
       "        0.80786139,  0.1425976 ,  0.4695742 ,  0.53523827,  0.73009087,\n",
       "        0.71593672,  0.34737444,  0.49689634,  0.54568401,  0.85416094,\n",
       "        0.68015745,  0.27689012,  0.50059203,  0.51663484,  0.58220458,\n",
       "        0.39339024,  0.48716321,  0.41434211,  0.62070768,  0.70833257,\n",
       "        0.65266025,  0.17182294,  0.39006697,  0.14462219,  0.26196341,\n",
       "        0.54657293,  0.58779408,  0.4891362 ,  0.99662199,  0.69385161,\n",
       "        0.51949671,  0.6495261 ,  0.32666704,  0.36930619,  0.42425623,\n",
       "        0.6924072 ,  0.53838072,  0.62913743,  0.70870395,  0.47037496,\n",
       "        0.88512864,  0.27116139,  0.82902804,  0.10979207,  0.91812053,\n",
       "        0.16071173,  0.27999538,  0.50307733,  0.42593867,  0.61258276,\n",
       "        0.82895953,  0.61024392,  0.81495585,  0.62627407,  0.32625556,\n",
       "        0.32914502,  0.63702197,  0.23667302,  0.5936285 ,  0.2484001 ,\n",
       "        0.88320232,  0.398239  ,  0.41782425,  0.69024683,  0.35728189,\n",
       "        0.36797418,  0.66585648,  0.4234206 ,  0.72421739,  0.64664579,\n",
       "        0.48970826,  0.45978084,  0.48681043,  0.36503872,  0.49270733,\n",
       "        0.3787265 ,  0.27146986,  0.67199805,  0.69294251,  0.22019446,\n",
       "        0.57990205,  0.16563247,  0.30027867,  0.34484562,  0.43709165,\n",
       "        0.80098253,  0.66127281,  0.20913021,  0.5959915 ,  0.50307665,\n",
       "        0.68199213,  0.80517849,  0.58244254,  0.88946169,  0.5636901 ,\n",
       "        0.64417649,  0.13176348,  0.6303788 ,  0.33628683,  0.68207053,\n",
       "        0.38833081,  0.49523555,  0.40062105,  0.20485182,  0.42714148,\n",
       "        0.85415501,  0.7605047 ,  0.21984469,  0.1531172 ,  0.25508491,\n",
       "        0.28597859,  0.58919701,  0.79334195,  0.65257798,  0.46034036,\n",
       "        0.53664374,  0.72869999,  0.56024942,  0.75252878,  0.76034525,\n",
       "        0.45327913,  0.51711382,  0.68485702,  0.33077921,  0.41019051,\n",
       "        0.7442684 ,  0.19966012,  0.51670432,  0.50697929,  0.30668774,\n",
       "        0.47010336,  0.58784305,  0.39777869,  0.37980797,  0.72105016,\n",
       "        0.30538879,  0.37816491,  0.52386737,  0.57479717,  0.27340146,\n",
       "        0.27859333,  0.3336138 ,  0.47000449,  0.46006149,  0.33164507,\n",
       "        0.70697369,  0.27952502,  0.72314778,  0.93705718,  0.29924295,\n",
       "        0.32340368,  0.52850939,  0.78382235,  0.56636752,  0.35680558,\n",
       "        0.82569938,  0.54362719,  0.67705028,  0.52968994,  0.53391533,\n",
       "        0.4198369 ,  0.09290923,  0.32190396,  0.3214132 ,  0.50258478,\n",
       "        0.64139363,  0.38983148,  0.35547864,  0.67920467,  0.39955889,\n",
       "        0.37696025,  0.51163216,  0.62625903,  0.62242641,  0.45988936,\n",
       "        0.48851105,  0.46840115,  0.2802916 ,  0.34985968,  0.71866055,\n",
       "        0.78126818,  0.8469152 ,  0.5582639 ,  0.33997129,  0.57024939,\n",
       "        0.35103656,  0.53761568,  0.41725929,  0.73953437,  0.43736169,\n",
       "        0.65725147,  0.2406638 ,  0.61680758,  0.73155841,  0.53431769,\n",
       "        0.63966841,  0.41844304,  0.74706016,  0.53329712,  0.16068813,\n",
       "        0.37051846,  0.63484272,  0.70141108,  0.22079132,  0.59652076,\n",
       "        0.78980492,  0.68931405,  0.5393161 ,  0.2854742 ,  0.20337038,\n",
       "        0.17197489,  0.73879818,  0.67775928,  0.72982167,  0.56829376,\n",
       "        0.40010541,  0.5389868 ,  0.88668034,  0.7237647 ,  0.32677232,\n",
       "        0.88210094,  0.0025849 ,  0.68409229,  0.66668134,  0.40548873,\n",
       "        0.34863905,  0.41987868,  0.28575426,  0.53942506,  0.43053295,\n",
       "        0.28693754,  0.5854855 ,  0.54839275,  0.25995213,  0.65864028,\n",
       "        0.62931822,  0.60334565,  0.53769966,  0.61699173,  0.12719243,\n",
       "        0.48358701,  0.51989755,  0.29833337,  0.22800865,  0.79286686,\n",
       "        0.13247175,  0.44502536,  0.74192998,  0.80312379,  0.55672026,\n",
       "        0.36246871,  0.20956517,  0.16253557,  0.46012935,  0.31931703,\n",
       "        0.44371723,  0.63474863,  0.47849477,  0.68856342,  0.66518935,\n",
       "        0.79131036,  0.27474451,  0.8770976 ,  0.29412207,  0.61079941,\n",
       "        0.73673388,  0.46112502,  0.37979596,  0.39759226,  0.44679232,\n",
       "        0.3269624 ,  0.43498176,  0.28987123,  0.88430222,  0.63521834,\n",
       "        0.50479218,  0.43074907,  0.72091697,  0.52263774,  0.68596941,\n",
       "        0.58397291,  0.78222551,  0.57556117,  0.70581383,  0.19421993,\n",
       "        0.51533865,  0.68951793,  0.48159833,  0.38554947,  0.37758462,\n",
       "        0.44509362,  0.75556572,  0.46369414,  0.46534824,  0.17344117,\n",
       "        0.48080164,  0.58665328,  0.60443248,  0.34747508,  0.29980976,\n",
       "        0.93281029,  0.32434225,  0.25061665,  0.36299739,  0.51761471,\n",
       "        0.39798249,  0.81290611,  0.85303054,  0.71522917,  0.36153869,\n",
       "        0.44063642,  0.48689906,  0.36465003,  0.91496555,  0.625054  ,\n",
       "        0.48248579,  0.14983132,  0.37510228,  0.71082658,  0.46326622,\n",
       "        0.35690693,  0.77533929,  0.74692015,  0.67503134,  0.36535892,\n",
       "        0.49786962,  0.5778497 ,  0.89470836,  0.73459814,  0.6857787 ,\n",
       "        0.77321679,  0.43253287,  0.30020231,  0.09931263,  0.63613692,\n",
       "        0.53253952,  0.56712215,  0.56671981,  0.68989599,  0.39812426,\n",
       "        0.47218809,  0.36369215,  0.67151257,  0.56828798,  0.57041035,\n",
       "        0.6938517 ,  1.02553185,  0.67905659,  0.44200879,  0.38634338,\n",
       "        0.6689867 ,  0.37476491,  0.77715418,  0.37151737,  0.68391841,\n",
       "        1.08363108,  0.29520936,  0.63670462,  0.5918079 ,  0.28328382,\n",
       "        0.16734033,  0.57757479,  0.52194232,  0.23574396,  0.60223591,\n",
       "        0.46692918,  0.63577841,  0.1501223 ,  0.53467563,  0.52984036,\n",
       "        0.48996661,  0.43715398,  0.68828367,  0.49003023,  0.80877334,\n",
       "        0.51926089,  0.75008429,  0.82131138,  0.45108959,  0.20241685,\n",
       "        0.62813805,  0.36461497,  0.91825781,  0.69047838,  0.35665196,\n",
       "        0.42582685,  0.55680722,  0.62928314,  0.27505151,  0.33613137,\n",
       "        0.59293217,  0.66592978,  0.47113547,  0.7185926 ,  0.60888553,\n",
       "        0.69077235,  0.38844617,  0.16580984,  0.33441999,  0.35186891,\n",
       "        0.66414029,  0.68323635,  0.28931081,  0.29378973,  0.4299786 ,\n",
       "        0.39543352,  0.58776875,  0.31944209,  0.57224605,  0.24737448,\n",
       "        0.42829318,  0.94329457,  0.30868347,  0.37473522,  0.64225025,\n",
       "        0.15034763,  0.71634146,  0.39783547,  0.41464417,  0.32022974,\n",
       "        0.5736432 ,  0.36969506,  0.38898296,  0.46763068,  0.72254376,\n",
       "        0.67607707,  0.77419538,  0.42443437,  0.60401987,  0.45890643,\n",
       "        0.21773405,  0.26205525,  0.24567154,  0.35560416,  0.30986884,\n",
       "        0.29962413,  0.5657605 ,  0.5373005 ,  0.14693988,  0.32967107,\n",
       "        0.63406692,  0.3800645 ,  0.70469859,  0.1812309 ,  0.6667801 ,\n",
       "        0.24887491,  0.29373532,  0.55609607,  0.44568278,  0.75505821,\n",
       "        0.5431975 ,  0.68670012,  0.87784589,  0.59977247,  0.88161896,\n",
       "        0.39938779,  0.1496514 ,  0.493531  ,  0.44889635,  0.67098501,\n",
       "        0.31196458,  0.56650351,  0.70427126,  0.66247019,  0.49355725,\n",
       "        0.42938693,  0.40888567,  0.7829882 ,  0.35279359,  0.7661516 ,\n",
       "        0.72796142,  0.82762967,  0.6081578 ,  0.57747357,  0.38214417,\n",
       "        0.43129626,  0.36704638,  0.52975368,  0.57486735,  1.01598986,\n",
       "        0.74818104,  0.42404849,  0.87451122,  0.36144777,  0.07171451,\n",
       "        0.48062466,  0.22254917,  0.50303494,  0.45779247,  0.56914666,\n",
       "        0.82958666,  0.26174157,  0.36475052,  0.35490927,  0.36015814,\n",
       "        0.48884558,  0.57566449,  0.49193367,  0.29973591,  0.28461621,\n",
       "        0.59027361,  0.50393408,  0.19984615,  0.29345206,  0.70721698,\n",
       "        0.14952906,  0.87490406,  0.45574453,  0.21491827,  0.36377097,\n",
       "        0.62115143,  0.62054545,  0.56931547,  0.69060962,  0.48127382,\n",
       "        0.54663175,  0.17449177,  0.77982489,  0.43357723,  0.8127517 ,\n",
       "        0.51001193,  0.51684539,  0.2444313 ,  0.36025285,  0.29440986,\n",
       "        0.65354246,  0.59480375,  0.35098236,  0.49055211,  0.31433129,\n",
       "        0.62590604,  0.2643824 ,  0.6152252 ,  0.42038028,  0.29849412,\n",
       "        0.55793753,  0.64100944,  0.38894978,  0.9443208 ,  0.35704054,\n",
       "        0.5780396 ,  0.57449397,  0.40671442,  0.54482456,  0.53745288,\n",
       "        0.46103517,  0.52750925,  0.47646021,  0.53053833,  0.19833285,\n",
       "        0.43051076,  0.70796331,  0.34412368,  0.33532666,  0.3979382 ,\n",
       "        0.30114721,  0.16141542,  0.37004889,  0.48747899,  0.84271555,\n",
       "        0.14456157,  0.36912247,  0.47505704,  0.25145806,  0.30126539,\n",
       "        0.48996734,  0.81532166,  0.62269763,  0.67521597,  0.45294887,\n",
       "        0.37861297,  0.32864265,  0.37254553,  0.97471734,  0.59850808,\n",
       "        0.37195931,  0.63575873,  0.46238539,  0.68139258,  0.45591617,\n",
       "        0.70457059,  0.71286894,  0.48707871,  0.32065726,  0.36841552,\n",
       "        0.13103521,  0.85485785,  0.52489669,  0.07232236,  0.68989237,\n",
       "        0.55758986,  0.55363576,  0.35148378,  0.22368935,  0.56940879,\n",
       "        0.78927134,  0.67628301,  0.37927084,  0.42410755,  0.42067407,\n",
       "        0.35052616,  0.47648728,  0.57728146,  0.64766733,  0.46676386,\n",
       "        0.39810702,  0.2138873 ,  0.44338699,  0.40569138, -0.00686678,\n",
       "        0.54315322,  0.34332712,  0.61332561,  0.51126068,  0.68002689,\n",
       "        0.24289134,  0.66339722,  0.7851019 ,  0.61893496,  0.51213293,\n",
       "        0.42725974,  0.22050398,  0.59879977,  0.55766149,  0.58839113,\n",
       "        0.34935346,  0.50720738,  0.16138809,  0.35939143,  0.63418775,\n",
       "        0.6261361 ,  0.74265583,  0.99821144,  0.60583247,  0.01946192,\n",
       "        0.63037413,  0.47528181,  0.58097517,  0.35549673,  0.67833555,\n",
       "        0.67528305,  0.35696832,  0.46455014,  0.63193544,  0.79125471,\n",
       "        0.64719748,  0.71649494,  0.42284875,  0.73685293,  0.62655455,\n",
       "        0.48683709,  0.27691879,  0.56754578,  0.18309081,  0.6275729 ,\n",
       "        0.46158288,  0.71956055,  0.58268461,  0.66330461,  0.71829359,\n",
       "        0.38034296,  0.21903295,  0.78569761,  0.45471319,  0.30225052,\n",
       "        0.28136327,  0.43264675,  0.49935182,  0.52079951,  0.52948702,\n",
       "       -0.07751824, -0.08574499,  0.30042578,  0.6008566 ,  0.35592366,\n",
       "        0.76641413,  0.74050645,  0.41762078,  0.52141371,  0.27326364,\n",
       "        0.2744666 ,  0.54472571,  0.42337592,  0.87545896,  0.23964525,\n",
       "        0.49141239,  0.47488027,  0.51576519,  0.09459428,  0.74465535,\n",
       "        0.26388124,  0.56553889,  0.5505053 ,  0.50624772,  0.39105949,\n",
       "        0.11814173,  0.34315597,  0.34408913,  0.90912403,  0.57739401,\n",
       "        0.52079153,  0.50463963,  1.02132243,  0.46103096,  0.65318571,\n",
       "        0.78394104,  0.77654152,  0.68697836,  0.25900848,  0.29119928,\n",
       "        0.79791658,  0.68158728,  0.15780695,  0.49864305,  0.72839665,\n",
       "        0.68658623,  0.41954933,  0.7762904 ,  0.49221418,  0.71332697,\n",
       "        0.33792049,  0.17561625, -0.02346218,  0.91404613,  0.59737533,\n",
       "        0.25904416,  0.51951738,  0.34822432,  0.56326411,  0.69938743,\n",
       "        0.34958128,  0.65999537,  0.53862269,  0.23266846,  0.69060379,\n",
       "        0.55293411,  0.619863  ,  0.5207166 ,  0.4440758 ,  0.37236734,\n",
       "        0.34406344,  0.24696243,  0.05620858,  0.5813599 ,  0.51245363,\n",
       "        0.77634615,  0.39653753,  0.56361987,  0.61247394,  0.6876916 ,\n",
       "        0.55522604,  0.69567679,  0.6154567 ,  0.44725701,  0.44599666,\n",
       "        0.42782841,  0.57268578,  0.42842124,  0.46185101,  0.92461464,\n",
       "        0.01643482,  0.5519271 ,  0.53306902,  0.53182076,  0.4294735 ,\n",
       "        0.34910685,  0.2556446 ,  0.66476394,  0.8025713 ,  0.42156614,\n",
       "        0.26419071,  0.44946595,  0.4582964 ,  0.60529442,  0.24654286,\n",
       "        0.58138214,  0.37435455,  1.00876269,  0.74594271,  0.51164348,\n",
       "        1.24442875,  0.42275897,  0.31289796,  0.68989512,  0.61443954,\n",
       "        0.72666595,  0.63510546,  0.48581118,  0.31241573,  0.36569159,\n",
       "        0.65456704,  0.28200939,  0.17780482,  0.65296054,  0.24876569,\n",
       "        0.81179711,  0.63975691,  0.88503318,  0.2045379 ,  0.37750163,\n",
       "        0.92174048,  0.38131572,  0.45925864,  0.83238831,  0.48792257,\n",
       "        0.6302953 ,  0.69479218,  0.46052462,  0.15976836,  0.38968621,\n",
       "        0.4615337 ,  0.68499976,  0.5132856 ,  0.68677361,  0.44968008,\n",
       "       -0.07759515,  0.21699898,  0.76424552,  0.59272332,  0.86944757,\n",
       "        0.36965359,  0.63601266,  0.42620599,  0.65968422,  0.51649364])"
      ]
     },
     "execution_count": 52,
     "metadata": {},
     "output_type": "execute_result"
    }
   ],
   "source": [
    "s"
   ]
  },
  {
   "cell_type": "code",
   "execution_count": 53,
   "id": "0a1cf4b9",
   "metadata": {},
   "outputs": [
    {
     "data": {
      "text/plain": [
       "<Axes: ylabel='Count'>"
      ]
     },
     "execution_count": 53,
     "metadata": {},
     "output_type": "execute_result"
    },
    {
     "data": {
      "image/png": "[encoded data removed]",
      "text/plain": [
       "<Figure size 640x480 with 1 Axes>"
      ]
     },
     "metadata": {},
     "output_type": "display_data"
    }
   ],
   "source": [
    "sns.histplot(s, kde = True)"
   ]
  },
  {
   "cell_type": "code",
   "execution_count": 54,
   "id": "da5f95d4",
   "metadata": {},
   "outputs": [],
   "source": [
    "## Other Distribution \n",
    "## Log Normal Distribution, Power Law Distribution"
   ]
  },
  {
   "cell_type": "markdown",
   "id": "6dc44a73",
   "metadata": {},
   "source": []
  },
  {
   "cell_type": "code",
   "execution_count": 63,
   "id": "7ac7ed13",
   "metadata": {},
   "outputs": [],
   "source": [
    "mu, sigma = 3., 1. # mean and standard deviation\n",
    "s = np.random.lognormal(mu, sigma, 1000)"
   ]
  },
  {
   "cell_type": "code",
   "execution_count": 60,
   "id": "a0b4f5ad",
   "metadata": {},
   "outputs": [
    {
     "data": {
      "text/plain": [
       "array([ 15.69707661,  96.48087875,  15.63450529,   7.52547745,\n",
       "        87.43132299, 214.24239133,  13.20642162,   3.78975282,\n",
       "        12.85893984,  26.23163969,  41.20205245,  15.57204824,\n",
       "        11.92774137,  14.18374898,   2.43499289,  13.23904252,\n",
       "        40.20088047,  32.48927851,  67.16495946,   4.2548508 ,\n",
       "        72.87300362,  54.37560306, 176.08811894,  38.59504208,\n",
       "        17.09969673,  15.63068866,  13.66374727,   9.12070256,\n",
       "         8.87145607,  11.74864709, 170.15831773,  17.08566506,\n",
       "        18.23174444,   3.32454472,  92.4023253 ,  14.40223296,\n",
       "       203.86947356,  13.0223307 ,  23.15479066,   8.00614059,\n",
       "         4.7149142 ,  16.16265291,   5.68054256, 247.8054818 ,\n",
       "        38.3720708 ,   8.46778119,  21.42767258,  28.54356687,\n",
       "         9.29541564,  27.01812275,  64.74075212,  25.57145042,\n",
       "        35.27069358,  96.37224237,  22.50582962,  59.44787455,\n",
       "         6.21603047,  44.44338915,   6.4336075 ,  21.36657047,\n",
       "        11.92440058,  33.22306154,  11.93158408,  29.17221669,\n",
       "        13.29459033,  13.60786372,  35.82181453,  15.12460076,\n",
       "        25.10717274,  28.35661962,  10.09949704,  32.38732334,\n",
       "        17.3029322 ,   6.25900847,   7.17841399,  22.07125854,\n",
       "        17.85038591,  10.74498123,   4.89853389,  12.79042853,\n",
       "        86.2955869 ,  14.6442694 ,   6.342119  ,   6.3790699 ,\n",
       "        45.01560127,   3.8650446 ,   5.76937021,  19.81816997,\n",
       "         5.34541704,  21.07443527,  12.92838341,  20.45108778,\n",
       "       239.59420966,  32.66376854,  26.07314855,  19.29949819,\n",
       "        41.38606566,  10.73328132,  15.34847259,  62.3661264 ])"
      ]
     },
     "execution_count": 60,
     "metadata": {},
     "output_type": "execute_result"
    }
   ],
   "source": [
    "s"
   ]
  },
  {
   "cell_type": "code",
   "execution_count": 64,
   "id": "60e8e174",
   "metadata": {},
   "outputs": [
    {
     "data": {
      "text/plain": [
       "<Axes: ylabel='Count'>"
      ]
     },
     "execution_count": 64,
     "metadata": {},
     "output_type": "execute_result"
    },
    {
     "data": {
      "image/png": "[encoded data removed]",
      "text/plain": [
       "<Figure size 640x480 with 1 Axes>"
      ]
     },
     "metadata": {},
     "output_type": "display_data"
    }
   ],
   "source": [
    "sns.histplot(s, kde = True)"
   ]
  },
  {
   "cell_type": "code",
   "execution_count": 65,
   "id": "1115e440",
   "metadata": {},
   "outputs": [
    {
     "data": {
      "text/plain": [
       "<Axes: ylabel='Count'>"
      ]
     },
     "execution_count": 65,
     "metadata": {},
     "output_type": "execute_result"
    },
    {
     "data": {
      "image/png": "[encoded data removed]",
      "text/plain": [
       "<Figure size 640x480 with 1 Axes>"
      ]
     },
     "metadata": {},
     "output_type": "display_data"
    }
   ],
   "source": [
    "sns.histplot(np.log(s), kde = True)"
   ]
  },
  {
   "cell_type": "code",
   "execution_count": null,
   "id": "ddce83bc",
   "metadata": {},
   "outputs": [],
   "source": []
  }
 ],
 "metadata": {
  "kernelspec": {
   "display_name": "Python 3 (ipykernel)",
   "language": "python",
   "name": "python3"
  },
  "language_info": {
   "codemirror_mode": {
    "name": "ipython",
    "version": 3
   },
   "file_extension": ".py",
   "mimetype": "text/x-python",
   "name": "python",
   "nbconvert_exporter": "python",
   "pygments_lexer": "ipython3",
   "version": "3.11.2"
  }
 },
 "nbformat": 4,
 "nbformat_minor": 5
}
